{
  "nbformat": 4,
  "nbformat_minor": 0,
  "metadata": {
    "colab": {
      "provenance": [],
      "include_colab_link": true
    },
    "kernelspec": {
      "name": "python3",
      "display_name": "Python 3"
    },
    "language_info": {
      "name": "python"
    }
  },
  "cells": [
    {
      "cell_type": "markdown",
      "metadata": {
        "id": "view-in-github",
        "colab_type": "text"
      },
      "source": [
        "<a href=\"https://colab.research.google.com/github/Zeph123On/FOC-FUNCTIONSs/blob/main/Exercise_13_6.ipynb\" target=\"_parent\"><img src=\"https://colab.research.google.com/assets/colab-badge.svg\" alt=\"Open In Colab\"/></a>"
      ]
    },
    {
      "cell_type": "markdown",
      "source": [
        "# Excercise 13.6"
      ],
      "metadata": {
        "id": "4SEE8ePEmByT"
      }
    },
    {
      "cell_type": "markdown",
      "source": [
        "### 1.\n",
        "#### Write a function called `rectangle` that takes two integers m and n as arguments and prints out an m x n box consisting of asterisks. Shown below is the output of `rectangle(2,4)`:\n",
        "\n",
        "   ```\n",
        "   ****\n",
        "   ****\n",
        "   ```"
      ],
      "metadata": {
        "id": "IExMNINVmNy_"
      }
    },
    {
      "cell_type": "code",
      "source": [
        "def rectangle(m, n):\n",
        "  for _ in range(m):\n",
        "    print(\"*\" * n)\n",
        "\n",
        "\n",
        "rectangle(2, 4)\n"
      ],
      "metadata": {
        "id": "8YvzN8HKmJZ3",
        "colab": {
          "base_uri": "https://localhost:8080/"
        },
        "outputId": "96cb3b46-8b9b-4315-d643-21a74dc5ad46"
      },
      "execution_count": null,
      "outputs": [
        {
          "output_type": "stream",
          "name": "stdout",
          "text": [
            "****\n",
            "****\n"
          ]
        }
      ]
    },
    {
      "cell_type": "markdown",
      "source": [
        "## 2.\n",
        "### A. Write a function called `add_excitement` that takes a list of strings and adds an exclamation point (!) to the end of each string in the list. The program should modify the original list and not return anything."
      ],
      "metadata": {
        "id": "YKyY4H7gpOuD"
      }
    },
    {
      "cell_type": "code",
      "source": [
        "#A\n",
        "def add_excitement(string_list):\n",
        "  for i in range(len(string_list)):\n",
        "    string_list[i] += \"!\"\n",
        "\n",
        "\n",
        "my_list = [\"hello\", \"world\", \"python\"]\n",
        "add_excitement(my_list)\n",
        "print(my_list)\n"
      ],
      "metadata": {
        "colab": {
          "base_uri": "https://localhost:8080/"
        },
        "id": "oXiGf3Fapdve",
        "outputId": "3694de48-dd55-41a1-8459-a0ed353f0a8f"
      },
      "execution_count": null,
      "outputs": [
        {
          "output_type": "stream",
          "name": "stdout",
          "text": [
            "['hello!', 'world!', 'python!']\n"
          ]
        }
      ]
    },
    {
      "cell_type": "markdown",
      "source": [
        "### B.\n",
        "Write the same function except that it should not modify the original list and should instead return a new list."
      ],
      "metadata": {
        "id": "8AuXGoAzqiPU"
      }
    },
    {
      "cell_type": "code",
      "source": [
        " def add_excitement(string_list):\n",
        "  new_list = []\n",
        "  for string in string_list:\n",
        "    new_list.append(string + \"!\")\n",
        "  return new_list\n",
        "\n",
        "print(add_excitement([\"hello\", \"world\", \"python\"]))\n"
      ],
      "metadata": {
        "id": "oEHQeucKqEZX",
        "colab": {
          "base_uri": "https://localhost:8080/"
        },
        "outputId": "1ba114b5-492c-4f02-d929-e911be71c015"
      },
      "execution_count": null,
      "outputs": [
        {
          "output_type": "stream",
          "name": "stdout",
          "text": [
            "['hello!', 'world!', 'python!']\n"
          ]
        }
      ]
    },
    {
      "cell_type": "markdown",
      "source": [
        "## 3.\n",
        "Write a function called `sum_digits` that is given an integer `num` and returns the sum of the digits of `num`."
      ],
      "metadata": {
        "id": "v5wMfJ-Bsc1-"
      }
    },
    {
      "cell_type": "code",
      "source": [
        "def sum_digits(num):\n",
        "  sum_of_digits = 0\n",
        "  for digit in str(num):\n",
        "    sum_of_digits += int(digit)\n",
        "  return sum_of_digits\n",
        "\n",
        "print(sum_digits(45893))\n",
        "print(sum_digits(123453456747))"
      ],
      "metadata": {
        "colab": {
          "base_uri": "https://localhost:8080/"
        },
        "id": "gvGxR2Omsksv",
        "outputId": "cc8d8d03-9f7d-4a50-8568-fd195514391d"
      },
      "execution_count": null,
      "outputs": [
        {
          "output_type": "stream",
          "name": "stdout",
          "text": [
            "29\n",
            "51\n"
          ]
        }
      ]
    },
    {
      "cell_type": "markdown",
      "source": [
        "## 4.\n",
        "The digital root of a number `n` is obtained as follows: Add up the digits in `n` to get a new number. Add up the digits of that to get another new number. Keep doing this until you get a number that has only one digit. That number is the digital root.\n",
        "\n",
        "   For example, if `n = 45893`, we add up the digits to get 4 + 5 + 8 + 9 + 3 = 29. We then add up the digits of 29 to get 2 + 9 = 11. We then add up the digits of 11 to get 1 + 1 = 2. Since 2 has only one digit, 2 is our digital root.\n",
        "\n",
        "   Write a function that returns the digital root of an integer n. [Note: there is a shortcut, where the digital root is equal to n mod 9, but do not use that here.]"
      ],
      "metadata": {
        "id": "PXBP7NDfszIH"
      }
    },
    {
      "cell_type": "code",
      "source": [
        "def digital_root(n):\n",
        "    while n >= 10:\n",
        "        sum_of_digits = 0\n",
        "        for digit in str(n):\n",
        "            sum_of_digits += int(digit)\n",
        "        n = sum_of_digits\n",
        "    return n\n",
        "\n",
        "print(digital_root(45893))\n",
        "print(digital_root(423452362623))"
      ],
      "metadata": {
        "colab": {
          "base_uri": "https://localhost:8080/"
        },
        "id": "_92n8rDks6a5",
        "outputId": "ba5006b5-a0b2-4c63-9eab-42b190cf2286"
      },
      "execution_count": null,
      "outputs": [
        {
          "output_type": "stream",
          "name": "stdout",
          "text": [
            "2\n",
            "6\n"
          ]
        }
      ]
    },
    {
      "cell_type": "markdown",
      "source": [
        "## 5.\n",
        "Write a function called `first_diff` that is given two strings and returns the first location in which the strings differ. If the strings are identical, it should return -1."
      ],
      "metadata": {
        "id": "4vgjzHJGtMcf"
      }
    },
    {
      "cell_type": "code",
      "source": [
        "def first_diff(str1, str2):\n",
        "    min_len = min(len(str1), len(str2))\n",
        "    for i in range(min_len):\n",
        "        if str1[i] != str2[i]:\n",
        "            return i\n",
        "    if len(str1) != len(str2):\n",
        "        return min_len\n",
        "    return -1\n",
        "\n",
        "print(first_diff(\"hello\", \"world\"))\n",
        "print(first_diff(\"hello\", \"hello\"))\n",
        "print(first_diff(\"asdfqwer\", \"asdfzxcvq\"))"
      ],
      "metadata": {
        "colab": {
          "base_uri": "https://localhost:8080/"
        },
        "id": "glg0lEJWtR0g",
        "outputId": "57b436ed-5c4a-4b7d-c2f7-416f9791743c"
      },
      "execution_count": null,
      "outputs": [
        {
          "output_type": "stream",
          "name": "stdout",
          "text": [
            "0\n",
            "-1\n",
            "4\n"
          ]
        }
      ]
    },
    {
      "cell_type": "markdown",
      "source": [
        "## 6.\n",
        "Write a function called `binom` that takes two integers `n` and `k` and returns the binomial coefficient \\( \\binom{n}{k} = \\frac{n!}{k!(n-k)!} \\)."
      ],
      "metadata": {
        "id": "euE4KooitoLG"
      }
    },
    {
      "cell_type": "code",
      "source": [
        "def binom(n, k):\n",
        "    if k < 0 or k > n:\n",
        "        return 0\n",
        "    if k == 0 or k == n:\n",
        "        return 1\n",
        "    if k > n // 2:\n",
        "        k = n - k  # Optimization: binom(n,k) == binom(n, n-k)\n",
        "\n",
        "    result = 1\n",
        "    for i in range(k):\n",
        "        result = result * (n - i) // (i + 1)\n",
        "    return result\n",
        "\n",
        "print(binom(5, 2))\n",
        "print(binom(10, 3))\n",
        "print(binom(10, 5))"
      ],
      "metadata": {
        "colab": {
          "base_uri": "https://localhost:8080/"
        },
        "id": "VEYzEaPqttMz",
        "outputId": "be95b392-46f5-48e3-aac1-4a83be94d31b"
      },
      "execution_count": null,
      "outputs": [
        {
          "output_type": "stream",
          "name": "stdout",
          "text": [
            "10\n",
            "120\n",
            "252\n"
          ]
        }
      ]
    },
    {
      "cell_type": "markdown",
      "source": [
        "## 7."
      ],
      "metadata": {
        "id": "BtHA7RPLmjTU"
      }
    },
    {
      "cell_type": "code",
      "source": [
        "import random\n",
        "\n",
        "def random_n_digit_integer(n):\n",
        "  if not isinstance(n, int) or n <= 0:\n",
        "    return None\n",
        "\n",
        "  min_val = 10**(n - 1)\n",
        "  max_val = (10**n) - 1\n",
        "  return random.randint(min_val, max_val)\n",
        "\n",
        "print(random_n_digit_integer(5))\n",
        "print(random_n_digit_integer(3))\n",
        "print(random_n_digit_integer(2))\n"
      ],
      "metadata": {
        "colab": {
          "base_uri": "https://localhost:8080/"
        },
        "id": "tmtneOKnmkC2",
        "outputId": "90da4851-11c8-4e33-d699-04516e5455ec"
      },
      "execution_count": null,
      "outputs": [
        {
          "output_type": "stream",
          "name": "stdout",
          "text": [
            "80082\n",
            "512\n",
            "83\n"
          ]
        }
      ]
    },
    {
      "cell_type": "markdown",
      "source": [
        "## 8.\n",
        "Write a fucntion called number_of_factors taht takes an integer and returns how many factors the number has"
      ],
      "metadata": {
        "id": "0lzW87wYnxrB"
      }
    },
    {
      "cell_type": "code",
      "source": [
        "def number_of_factors(n):\n",
        "  if not isinstance(n, int) or n <= 0:\n",
        "    return 0\n",
        "\n",
        "  count = 0\n",
        "  for i in range(1, n + 1):\n",
        "    if n % i == 0:\n",
        "      count += 1\n",
        "  return count\n",
        "\n",
        "print(number_of_factors(5))\n",
        "print(number_of_factors(10))\n",
        "print(number_of_factors(13456))\n"
      ],
      "metadata": {
        "colab": {
          "base_uri": "https://localhost:8080/"
        },
        "id": "hkqqq49Kn2xT",
        "outputId": "cf952d1a-d55b-497b-e6e3-6787eb4c8312"
      },
      "execution_count": null,
      "outputs": [
        {
          "output_type": "stream",
          "name": "stdout",
          "text": [
            "2\n",
            "4\n",
            "15\n"
          ]
        }
      ]
    },
    {
      "cell_type": "markdown",
      "source": [
        "## 9.\n",
        "Write a function called `factors` that takes an integer and returns a list of its factors"
      ],
      "metadata": {
        "id": "gb_N_jxuoa1E"
      }
    },
    {
      "cell_type": "code",
      "source": [
        "def factors(n):\n",
        "  if not isinstance(n, int) or n <= 0:\n",
        "    return []\n",
        "\n",
        "  factor_list = []\n",
        "  for i in range(1, n + 1):\n",
        "    if n % i == 0:\n",
        "      factor_list.append(i)\n",
        "  return factor_list\n",
        "\n",
        "print(factors(5))\n",
        "print(factors(10))\n",
        "print(factors(13456))\n"
      ],
      "metadata": {
        "colab": {
          "base_uri": "https://localhost:8080/"
        },
        "id": "nUp4v30uqyAO",
        "outputId": "688c1ada-cfd3-4169-c24f-61892f7bf076"
      },
      "execution_count": null,
      "outputs": [
        {
          "output_type": "stream",
          "name": "stdout",
          "text": [
            "[1, 5]\n",
            "[1, 2, 5, 10]\n",
            "[1, 2, 4, 8, 16, 29, 58, 116, 232, 464, 841, 1682, 3364, 6728, 13456]\n"
          ]
        }
      ]
    },
    {
      "cell_type": "markdown",
      "source": [
        "## 10.\n",
        "Write a function called `closest` taht takes a list of numbers L and a number n and returns the largest element in L that is not larger than n. For instance, if `L = [1,6,3,9,11]` and `n=8`, then the function should return 6, because 6 is the closest thing in L to 8 that is not larger than 8. don't worry about if all of the things in L are smaller than n."
      ],
      "metadata": {
        "id": "RNPcYaMZq8qZ"
      }
    },
    {
      "cell_type": "code",
      "source": [
        "def closest(L, n):\n",
        "    closest_num = None\n",
        "    for num in L:\n",
        "        if num <= n:\n",
        "            if closest_num is None or num > closest_num:\n",
        "                closest_num = num\n",
        "    return closest_num\n",
        "\n",
        "print(closest([1, 6, 3, 9, 11], 8))\n",
        "print(closest([1, 6, 3, 9, 11], 10))"
      ],
      "metadata": {
        "colab": {
          "base_uri": "https://localhost:8080/"
        },
        "id": "4w2JxUTfq-JD",
        "outputId": "be2b5562-0025-47f8-88c7-c8fc7b006c92"
      },
      "execution_count": null,
      "outputs": [
        {
          "output_type": "stream",
          "name": "stdout",
          "text": [
            "6\n",
            "9\n"
          ]
        }
      ]
    }
  ]
}